{
 "cells": [
  {
   "cell_type": "markdown",
   "id": "b6accc35-5063-4ae4-b1d1-ae124d8a7164",
   "metadata": {},
   "source": [
    "# Python Data Structures & Boolean\n",
    "- Boolean - 'TURE' or 'FALSE'\n",
    "- Boolean  & Logical Operators\n",
    "- Comparision Operators\n",
    "- Lists\n",
    "- Dictionaries\n",
    "- Tuples\n",
    "- Sets\n",
    "- Note: Lists, dictionaries, and sets are extremely useful and important"
   ]
  },
  {
   "cell_type": "markdown",
   "id": "4d89a363-2dfc-4e77-9e01-25c7ef63950d",
   "metadata": {},
   "source": [
    "## Boolean Variables\n",
    "- Built in function bool()\n",
    "- Syntax: bool(self, /, *args, **kwargs)\n",
    "- Returns True when the argument x is true, False otherwise.\n",
    "- The builtins True and False are the only two instances of the class bool.\n",
    "- The class bool is a subclass of the class int, and cannot be subclassed."
   ]
  },
  {
   "cell_type": "code",
   "execution_count": 106,
   "id": "33fde1ff-f2cc-4b0e-9eb9-6b8726d48062",
   "metadata": {},
   "outputs": [
    {
     "data": {
      "text/plain": [
       "False"
      ]
     },
     "execution_count": 106,
     "metadata": {},
     "output_type": "execute_result"
    }
   ],
   "source": [
    "False"
   ]
  },
  {
   "cell_type": "code",
   "execution_count": 107,
   "id": "3ede8f97-5253-47a9-9c9a-768873c99dad",
   "metadata": {},
   "outputs": [
    {
     "name": "stdout",
     "output_type": "stream",
     "text": [
      "True False\n"
     ]
    }
   ],
   "source": [
    "print(True, False)"
   ]
  },
  {
   "cell_type": "code",
   "execution_count": 108,
   "id": "a3ff8ece-c136-410b-88dd-30665f4654c7",
   "metadata": {},
   "outputs": [
    {
     "data": {
      "text/plain": [
       "bool"
      ]
     },
     "execution_count": 108,
     "metadata": {},
     "output_type": "execute_result"
    }
   ],
   "source": [
    "type(False)"
   ]
  },
  {
   "cell_type": "markdown",
   "id": "0bcddc3b-1b6d-4801-848b-e886cb8f899b",
   "metadata": {},
   "source": [
    "## BUILT IN FUNCTIONS"
   ]
  },
  {
   "cell_type": "markdown",
   "id": "f10e180e-e930-404f-873a-f8140291e8e8",
   "metadata": {},
   "source": [
    "## istitle() Function\n",
    "- Return True if the string is a title-cased string, False otherwise"
   ]
  },
  {
   "cell_type": "code",
   "execution_count": 109,
   "id": "ba45d397-1a95-4868-bd21-38e2ec10f686",
   "metadata": {},
   "outputs": [],
   "source": [
    "var_str = 'Hello World'"
   ]
  },
  {
   "cell_type": "code",
   "execution_count": 110,
   "id": "7924e1b4-902a-4564-bcd5-b6d0b80ffea4",
   "metadata": {},
   "outputs": [
    {
     "data": {
      "text/plain": [
       "True"
      ]
     },
     "execution_count": 110,
     "metadata": {},
     "output_type": "execute_result"
    }
   ],
   "source": [
    "var_str.istitle()"
   ]
  },
  {
   "cell_type": "markdown",
   "id": "c6479652-2e3c-46aa-8bc6-04ca1837fd57",
   "metadata": {},
   "source": [
    "## isalnum() Function\n",
    "- A string is alpha-numeric if all characters in the string are alpha-numeric and there is at least one character in the string."
   ]
  },
  {
   "cell_type": "code",
   "execution_count": 111,
   "id": "69260a8e-099a-4e84-a66f-8493e9043a9b",
   "metadata": {},
   "outputs": [
    {
     "data": {
      "text/plain": [
       "False"
      ]
     },
     "execution_count": 111,
     "metadata": {},
     "output_type": "execute_result"
    }
   ],
   "source": [
    "var_str.isalnum()"
   ]
  },
  {
   "cell_type": "markdown",
   "id": "52c9b381-d78a-40b8-ad82-0106f1e73eb4",
   "metadata": {},
   "source": [
    "## isalpha() Function\n",
    "- A string is alphabetic if all characters in the string are alphabetic and there is at least one character in the string."
   ]
  },
  {
   "cell_type": "code",
   "execution_count": 112,
   "id": "36035889-bc06-4c42-8310-de77a3811572",
   "metadata": {},
   "outputs": [
    {
     "data": {
      "text/plain": [
       "False"
      ]
     },
     "execution_count": 112,
     "metadata": {},
     "output_type": "execute_result"
    }
   ],
   "source": [
    "var_str.isalpha()"
   ]
  },
  {
   "cell_type": "markdown",
   "id": "8ddb0253-3377-470b-aa8d-0b605f9cdd90",
   "metadata": {},
   "source": [
    "## isdigist() Funtion"
   ]
  },
  {
   "cell_type": "code",
   "execution_count": 113,
   "id": "c85c30ae-c778-4272-8b7d-3acec2e98dc4",
   "metadata": {},
   "outputs": [
    {
     "data": {
      "text/plain": [
       "False"
      ]
     },
     "execution_count": 113,
     "metadata": {},
     "output_type": "execute_result"
    }
   ],
   "source": [
    "var_str.isdigit()"
   ]
  },
  {
   "cell_type": "markdown",
   "id": "2ba24a22-ae0e-421a-9276-535f139114c9",
   "metadata": {},
   "source": [
    "## isupper() Function\n",
    "- A string is uppercase if all cased characters in the string are uppercase and there is at least one cased character in the string.\n",
    "\n",
    "## islower() Funtion\n",
    "- A string is lowercase if all cased characters in the string are lowercase and there is at least one cased character in the string."
   ]
  },
  {
   "cell_type": "code",
   "execution_count": 114,
   "id": "58e7732e-0a02-46ca-83c8-c367f4ef3d5f",
   "metadata": {},
   "outputs": [
    {
     "data": {
      "text/plain": [
       "False"
      ]
     },
     "execution_count": 114,
     "metadata": {},
     "output_type": "execute_result"
    }
   ],
   "source": [
    "var_str.isupper()"
   ]
  },
  {
   "cell_type": "code",
   "execution_count": 115,
   "id": "f8f040c9-524f-4875-af1c-06c7fcd6c667",
   "metadata": {},
   "outputs": [
    {
     "data": {
      "text/plain": [
       "False"
      ]
     },
     "execution_count": 115,
     "metadata": {},
     "output_type": "execute_result"
    }
   ],
   "source": [
    "var_str.islower()"
   ]
  },
  {
   "cell_type": "markdown",
   "id": "2f36df19-3d81-4474-bcf9-5346436b5744",
   "metadata": {},
   "source": [
    "## isspace() Function\n",
    "- A string is whitespace if all characters in the string are whitespace and there is at least one character in the string."
   ]
  },
  {
   "cell_type": "raw",
   "id": "3c4d7000-2a89-425c-974e-059f8260068f",
   "metadata": {},
   "source": [
    "Python isspace() method is used to check space in the string. It return true if there are only whitespace characters in the string. Otherwise it returns false.\n",
    "\n",
    "isspace() method returns true for all whitespaces like:\n",
    "' ' - Space.\n",
    "'\\t' - Horizontal tab.\n",
    "'\\n' - Newline.\n",
    "'\\v' - Vertical tab.\n",
    "'\\f' - Feed.\n",
    "'\\r' - Carriage return"
   ]
  },
  {
   "cell_type": "code",
   "execution_count": 116,
   "id": "c8c3563e-0b63-4004-b9db-92ec3f9f7f7b",
   "metadata": {},
   "outputs": [
    {
     "data": {
      "text/plain": [
       "True"
      ]
     },
     "execution_count": 116,
     "metadata": {},
     "output_type": "execute_result"
    }
   ],
   "source": [
    "var_str = ' '\n",
    "var_str.isspace()"
   ]
  },
  {
   "cell_type": "markdown",
   "id": "1f787c5e-c7a4-420d-8bac-98ccdd638a7a",
   "metadata": {},
   "source": [
    "## endswith() Function\n",
    "- Syntax: endswith(suffix[, start[, end]])\n",
    "- Return True if S ends with the specified suffix, False otherwise.With optional start, test S beginning at that position. With optional end, stop comparing S at that position. Suffix can also be a tuple of strings to try.\n",
    "\n",
    "## startswith() Function\n",
    "- Syntax: S.startswith(prefix[, start[, end]])\n",
    "- Return True if S starts with the specified prefix, False otherwise.With optional start, test S beginning at that position. With optional end, stop comparing S at that position. Prefix can also be a tuple of strings to try.\n",
    "\n"
   ]
  },
  {
   "cell_type": "code",
   "execution_count": 117,
   "id": "7c52e8f0-002c-4d72-b612-8ce7ff6a8d5c",
   "metadata": {},
   "outputs": [],
   "source": [
    "var_str = 'Hello World'"
   ]
  },
  {
   "cell_type": "code",
   "execution_count": 118,
   "id": "49069625-6cf8-43a0-af2a-ed248af9034e",
   "metadata": {},
   "outputs": [
    {
     "name": "stdout",
     "output_type": "stream",
     "text": [
      "True\n",
      "False\n"
     ]
    }
   ],
   "source": [
    "print(var_str.endswith('d'))\n",
    "print(var_str.startswith('h'))"
   ]
  },
  {
   "cell_type": "markdown",
   "id": "60ccf35f-c6bd-4feb-8aca-a35be756e930",
   "metadata": {},
   "source": [
    "## Boolean & Logical Operators\n",
    "- and, or"
   ]
  },
  {
   "cell_type": "markdown",
   "id": "c36a98b0-bb43-4b11-94bb-fcc859c897f8",
   "metadata": {},
   "source": [
    "## isnumeric() Function\n",
    "- A string is numeric if all characters in the string are numeric and there is at least one character in the string."
   ]
  },
  {
   "cell_type": "code",
   "execution_count": 119,
   "id": "154e8588-7484-47b1-9ad3-b917a4d79e15",
   "metadata": {},
   "outputs": [
    {
     "data": {
      "text/plain": [
       "False"
      ]
     },
     "execution_count": 119,
     "metadata": {},
     "output_type": "execute_result"
    }
   ],
   "source": [
    "True and False"
   ]
  },
  {
   "cell_type": "code",
   "execution_count": 120,
   "id": "3b2f2d5a-c525-40be-bbf8-d1a57582e968",
   "metadata": {},
   "outputs": [
    {
     "data": {
      "text/plain": [
       "True"
      ]
     },
     "execution_count": 120,
     "metadata": {},
     "output_type": "execute_result"
    }
   ],
   "source": [
    "True and True"
   ]
  },
  {
   "cell_type": "code",
   "execution_count": 121,
   "id": "bb6bb29f-a091-4a10-8e20-605fdeb5a541",
   "metadata": {},
   "outputs": [
    {
     "data": {
      "text/plain": [
       "True"
      ]
     },
     "execution_count": 121,
     "metadata": {},
     "output_type": "execute_result"
    }
   ],
   "source": [
    "True or False"
   ]
  },
  {
   "cell_type": "code",
   "execution_count": 122,
   "id": "53ba3765-218a-48e1-b7d1-1ee5329c19aa",
   "metadata": {},
   "outputs": [
    {
     "data": {
      "text/plain": [
       "True"
      ]
     },
     "execution_count": 122,
     "metadata": {},
     "output_type": "execute_result"
    }
   ],
   "source": [
    "False or True"
   ]
  },
  {
   "cell_type": "code",
   "execution_count": 123,
   "id": "a3ddfa7c-23d0-420b-9d2e-8f172e9848f3",
   "metadata": {},
   "outputs": [],
   "source": [
    "var1_str = 'Hello World!'\n",
    "var2_str = 'Samuel'"
   ]
  },
  {
   "cell_type": "code",
   "execution_count": 124,
   "id": "f494faaa-ed3a-4d39-a5e0-2457a1181542",
   "metadata": {},
   "outputs": [
    {
     "data": {
      "text/plain": [
       "True"
      ]
     },
     "execution_count": 124,
     "metadata": {},
     "output_type": "execute_result"
    }
   ],
   "source": [
    "var2_str.isalpha() or var1_str.isnumeric()"
   ]
  },
  {
   "cell_type": "code",
   "execution_count": 125,
   "id": "5cb8d42c-1b33-4936-ac29-9772570c72b6",
   "metadata": {},
   "outputs": [
    {
     "data": {
      "text/plain": [
       "False"
      ]
     },
     "execution_count": 125,
     "metadata": {},
     "output_type": "execute_result"
    }
   ],
   "source": [
    "var2_str.isalpha() and var1_str.isalnum()"
   ]
  },
  {
   "cell_type": "markdown",
   "id": "b4232f21-45a9-4a64-9431-70c696c69e48",
   "metadata": {},
   "source": [
    "## LISTS - very important concept\n",
    "- Lists are used to store multiple items in a single variable. Lists are one of 4 built-in data types in Python used to store collections of data, the other 3 are Tuple, Set, and Dictionary, all with different qualities and usage.\n",
    "- List literals are written within square brackets [ ].\n",
    "- Lists work similarly to strings -- use the len() function and square brackets [ ] to access data, with the first element at index 0.\n",
    "- List is mutable or changeable \n",
    "- List can copiable"
   ]
  },
  {
   "cell_type": "code",
   "execution_count": 126,
   "id": "d0e6fee3-3117-41eb-bb81-57e2bfa9e91a",
   "metadata": {},
   "outputs": [
    {
     "data": {
      "text/plain": [
       "list"
      ]
     },
     "execution_count": 126,
     "metadata": {},
     "output_type": "execute_result"
    }
   ],
   "source": [
    "type([])"
   ]
  },
  {
   "cell_type": "code",
   "execution_count": 127,
   "id": "e19fbedb-ffad-482e-bd08-b317d6371e88",
   "metadata": {},
   "outputs": [
    {
     "data": {
      "text/plain": [
       "[]"
      ]
     },
     "execution_count": 127,
     "metadata": {},
     "output_type": "execute_result"
    }
   ],
   "source": [
    "list() #in-built empty list"
   ]
  },
  {
   "cell_type": "code",
   "execution_count": 128,
   "id": "17f93794-21f8-4e2c-90d6-de6c2c067d36",
   "metadata": {},
   "outputs": [],
   "source": [
    "lst = [] #empty list"
   ]
  },
  {
   "cell_type": "code",
   "execution_count": 129,
   "id": "88374f0c-7cec-48d2-8f93-517a52b8b4dd",
   "metadata": {},
   "outputs": [
    {
     "data": {
      "text/plain": [
       "list"
      ]
     },
     "execution_count": 129,
     "metadata": {},
     "output_type": "execute_result"
    }
   ],
   "source": [
    "type(lst)"
   ]
  },
  {
   "cell_type": "code",
   "execution_count": 130,
   "id": "0584388e-e6ac-4db3-9662-260305c0affd",
   "metadata": {},
   "outputs": [],
   "source": [
    "lst = list() # you can assign the  empty list to some variable also"
   ]
  },
  {
   "cell_type": "markdown",
   "id": "da489bb5-d62a-431c-a795-642abcab0a09",
   "metadata": {},
   "source": [
    "-list of values"
   ]
  },
  {
   "cell_type": "code",
   "execution_count": 131,
   "id": "d5e20bc0-f5aa-44b5-b641-8fcae338f86f",
   "metadata": {},
   "outputs": [],
   "source": [
    "lst = ['Yahoo','Google','Microsoft', 44, 77, 99, 33, 22, 1 ]"
   ]
  },
  {
   "cell_type": "code",
   "execution_count": 132,
   "id": "b3887d67-74c3-4348-b045-46e231615edb",
   "metadata": {},
   "outputs": [
    {
     "data": {
      "text/plain": [
       "9"
      ]
     },
     "execution_count": 132,
     "metadata": {},
     "output_type": "execute_result"
    }
   ],
   "source": [
    "len(lst) #length of lst"
   ]
  },
  {
   "cell_type": "code",
   "execution_count": 133,
   "id": "193518b4-6cca-4a82-a19d-16ddf544f79a",
   "metadata": {},
   "outputs": [
    {
     "data": {
      "text/plain": [
       "6"
      ]
     },
     "execution_count": 133,
     "metadata": {},
     "output_type": "execute_result"
    }
   ],
   "source": [
    "len(lst)-3"
   ]
  },
  {
   "cell_type": "code",
   "execution_count": 134,
   "id": "27a79106-0bb1-4acf-b586-fb021fb58610",
   "metadata": {},
   "outputs": [
    {
     "name": "stdout",
     "output_type": "stream",
     "text": [
      "apple\n",
      "banana\n",
      "cherry\n"
     ]
    }
   ],
   "source": [
    "# loop through the list items by using a for loop\n",
    "thislist = [\"apple\", \"banana\", \"cherry\"]\n",
    "for x in thislist:\n",
    "    print(x)"
   ]
  },
  {
   "cell_type": "code",
   "execution_count": 135,
   "id": "68464407-9de6-4d4b-ada4-ee109d5820e2",
   "metadata": {},
   "outputs": [
    {
     "name": "stdout",
     "output_type": "stream",
     "text": [
      "A\n",
      "B\n",
      "C\n",
      "D\n",
      "E\n"
     ]
    }
   ],
   "source": [
    "# loop through the list items by referring to their index number \n",
    "# use the range() and len() functions to create a suitable iterable\n",
    "thislist = [\"A\", \"B\", \"C\",\"D\",\"E\"]\n",
    "for i in range(len(thislist)):\n",
    "    print(thislist[i])"
   ]
  },
  {
   "cell_type": "code",
   "execution_count": 136,
   "id": "13e4be1e-7635-4358-9468-b0038fdb0dec",
   "metadata": {},
   "outputs": [],
   "source": [
    "# loop through the list items by using a while loop\n",
    "# use the len() function to determine the length of the list \n",
    "# start at 0 and loop your way through the list items by refering to their indexes\n",
    "# increase the index by 1 after each iteration"
   ]
  },
  {
   "cell_type": "code",
   "execution_count": 137,
   "id": "6a9adee2-6f84-41c6-b123-b6ddee7ccc09",
   "metadata": {},
   "outputs": [
    {
     "name": "stdout",
     "output_type": "stream",
     "text": [
      "Alvin\n",
      "Bob\n",
      "Chen\n",
      "Dick\n"
     ]
    }
   ],
   "source": [
    "thislist = [\"Alvin\", \"Bob\", \"Chen\", \"Dick\"]\n",
    "i = 0\n",
    "while i < len(thislist):\n",
    "    print(thislist[i])\n",
    "    i = i + 1"
   ]
  },
  {
   "cell_type": "markdown",
   "id": "70435af5-e2eb-4c34-b433-b833eb4a34d5",
   "metadata": {},
   "source": [
    "## Append List\n",
    "- Adds its argument as a single element to the end of a list\n",
    "\n",
    "## append() Function\n",
    "- Append the object to the end of the list\n",
    "\n",
    "## List Concatenation: We can use + operator to concatenate multiple lists and create a new list."
   ]
  },
  {
   "cell_type": "code",
   "execution_count": 138,
   "id": "331a7169-bf9a-4c31-a456-906455cdcf62",
   "metadata": {},
   "outputs": [],
   "source": [
    "lst = ['Yahoo','Google','Microsoft', 44, 77, 99, 33, 22, 1 ]"
   ]
  },
  {
   "cell_type": "code",
   "execution_count": 139,
   "id": "ec5eb61e-3bdf-47ca-9478-1d488e45adfe",
   "metadata": {},
   "outputs": [],
   "source": [
    "lst.append(51920)\n",
    "lst.append('Amazon')"
   ]
  },
  {
   "cell_type": "code",
   "execution_count": 140,
   "id": "fff4a7ce-918c-415c-b97f-df168602abbc",
   "metadata": {},
   "outputs": [
    {
     "data": {
      "text/plain": [
       "['Yahoo', 'Google', 'Microsoft', 44, 77, 99, 33, 22, 1, 51920, 'Amazon']"
      ]
     },
     "execution_count": 140,
     "metadata": {},
     "output_type": "execute_result"
    }
   ],
   "source": [
    "lst"
   ]
  },
  {
   "cell_type": "markdown",
   "id": "219d9f80-c763-4393-b562-6fe172c48846",
   "metadata": {},
   "source": [
    "## Indexing in List"
   ]
  },
  {
   "cell_type": "code",
   "execution_count": 141,
   "id": "dc9de670-d862-4056-835f-36582b81b965",
   "metadata": {},
   "outputs": [
    {
     "data": {
      "text/plain": [
       "11"
      ]
     },
     "execution_count": 141,
     "metadata": {},
     "output_type": "execute_result"
    }
   ],
   "source": [
    "len(lst)"
   ]
  },
  {
   "cell_type": "raw",
   "id": "1c1052a5-989e-4923-936d-bf0eadfc164d",
   "metadata": {},
   "source": [
    "The len() function returns the number of items in a list. Since list indexes start at 0, the value of len() represents a value one larger than the last index. This means the valid indexes of a list are any number between 0 and len() - 1."
   ]
  },
  {
   "cell_type": "code",
   "execution_count": 142,
   "id": "22c1d669-5e49-43d3-bf7b-953229ae0c05",
   "metadata": {},
   "outputs": [
    {
     "data": {
      "text/plain": [
       "51920"
      ]
     },
     "execution_count": 142,
     "metadata": {},
     "output_type": "execute_result"
    }
   ],
   "source": [
    "lst[9]"
   ]
  },
  {
   "cell_type": "code",
   "execution_count": 143,
   "id": "2eb1f2e3-5538-437b-9cfc-7a2bfc844814",
   "metadata": {},
   "outputs": [
    {
     "data": {
      "text/plain": [
       "[44, 77, 99, 33, 22, 1]"
      ]
     },
     "execution_count": 143,
     "metadata": {},
     "output_type": "execute_result"
    }
   ],
   "source": [
    "lst[3:9] #len() - 1"
   ]
  },
  {
   "cell_type": "markdown",
   "id": "f6444354-82d4-4768-9e1c-ff40441b2518",
   "metadata": {},
   "source": [
    "## insert() Function\n",
    "- inserts the object before the given index\n",
    "- allows you to add an element into a list at a given index position"
   ]
  },
  {
   "cell_type": "code",
   "execution_count": 144,
   "id": "3993585d-1d89-4422-8dc2-0be80676efec",
   "metadata": {},
   "outputs": [
    {
     "data": {
      "text/plain": [
       "['Yahoo',\n",
       " 'Google',\n",
       " 'Microsoft',\n",
       " 33,\n",
       " 44,\n",
       " 77,\n",
       " 99,\n",
       " 33,\n",
       " 22,\n",
       " 1,\n",
       " 51920,\n",
       " 'Amazon',\n",
       " ['UPS', 'GM']]"
      ]
     },
     "execution_count": 144,
     "metadata": {},
     "output_type": "execute_result"
    }
   ],
   "source": [
    "lst.insert(3, 33)\n",
    "lst.append(['UPS','GM'])\n",
    "lst"
   ]
  },
  {
   "cell_type": "markdown",
   "id": "44506875-96e1-4a8c-ade1-b97e447576e6",
   "metadata": {},
   "source": [
    "## extend() Function\n",
    "-  extends the list by appending elements from the iterable"
   ]
  },
  {
   "cell_type": "code",
   "execution_count": 145,
   "id": "22794b78-57a6-4829-9a3b-65c2fac39ed5",
   "metadata": {},
   "outputs": [],
   "source": [
    "lst.extend([6,6,8])"
   ]
  },
  {
   "cell_type": "code",
   "execution_count": 146,
   "id": "938901a5-48b4-429c-8dfc-6a6882e4f7c1",
   "metadata": {},
   "outputs": [
    {
     "name": "stdout",
     "output_type": "stream",
     "text": [
      "['Yahoo', 'Google', 'Microsoft', 33, 44, 77, 99, 33, 22, 1, 51920, 'Amazon', ['UPS', 'GM'], 6, 6, 8]\n"
     ]
    }
   ],
   "source": [
    "print(lst)"
   ]
  },
  {
   "cell_type": "markdown",
   "id": "a835daef-2819-483d-957a-3abe4a91fe63",
   "metadata": {},
   "source": [
    "## sum(), pop(), count(), min(), max() Functions\n",
    "\n",
    "- sum(): Sums up the numbers in the list; importantly it should be numbers\n",
    "- pop(): Remove and return item at index (default last)\n",
    "- count(): Number of occurrences of value\n",
    "- min(): Its smallest item in the list\n",
    "- max(): Its largest item in the list"
   ]
  },
  {
   "cell_type": "code",
   "execution_count": 147,
   "id": "94ee1fb3-cde9-4d89-93dd-90dcbbedb11f",
   "metadata": {},
   "outputs": [],
   "source": [
    "lst = [3,4,7,1,0,2,3,3,7,1]"
   ]
  },
  {
   "cell_type": "code",
   "execution_count": 148,
   "id": "964b7e5d-9d89-43a9-bdbf-db95a487413a",
   "metadata": {},
   "outputs": [
    {
     "data": {
      "text/plain": [
       "31"
      ]
     },
     "execution_count": 148,
     "metadata": {},
     "output_type": "execute_result"
    }
   ],
   "source": [
    "sum(lst)"
   ]
  },
  {
   "cell_type": "code",
   "execution_count": 149,
   "id": "d4e840d9-a4ea-4926-95bc-77f38e20f9d6",
   "metadata": {},
   "outputs": [
    {
     "data": {
      "text/plain": [
       "0"
      ]
     },
     "execution_count": 149,
     "metadata": {},
     "output_type": "execute_result"
    }
   ],
   "source": [
    "lst.pop(4) #here index is 4 and the value of index is 2"
   ]
  },
  {
   "cell_type": "code",
   "execution_count": 150,
   "id": "17bba4ac-e3bf-4bb9-afcb-199f40b1180f",
   "metadata": {},
   "outputs": [
    {
     "data": {
      "text/plain": [
       "3"
      ]
     },
     "execution_count": 150,
     "metadata": {},
     "output_type": "execute_result"
    }
   ],
   "source": [
    "lst.count(3) #counting occurences of number 3 which is 3 times"
   ]
  },
  {
   "cell_type": "code",
   "execution_count": 151,
   "id": "76b142d2-e8af-4319-b43a-d635d07f32c8",
   "metadata": {},
   "outputs": [
    {
     "data": {
      "text/plain": [
       "1"
      ]
     },
     "execution_count": 151,
     "metadata": {},
     "output_type": "execute_result"
    }
   ],
   "source": [
    "min(lst)"
   ]
  },
  {
   "cell_type": "code",
   "execution_count": 152,
   "id": "728fe15d-b853-4ac7-a4b0-7e74ba506e3f",
   "metadata": {},
   "outputs": [
    {
     "data": {
      "text/plain": [
       "7"
      ]
     },
     "execution_count": 152,
     "metadata": {},
     "output_type": "execute_result"
    }
   ],
   "source": [
    "max(lst)"
   ]
  },
  {
   "cell_type": "markdown",
   "id": "e1e3bf86-4bfc-4e94-8110-caf781b46b68",
   "metadata": {},
   "source": [
    "## SETS"
   ]
  },
  {
   "cell_type": "markdown",
   "id": "2c5802ac-3b8c-4aa1-add3-6a0435444410",
   "metadata": {},
   "source": [
    "- A Set is an unordered collection data type that is iterable, mutable and has no duplicate elements\n",
    "- Sets are used to store multiple items in a single variable\n",
    "- A Set is a collection which is both unordered and unindexed or cannot do indexing in Set\n",
    "- This is based on a data structure known as a hash table"
   ]
  },
  {
   "cell_type": "code",
   "execution_count": 153,
   "id": "622957bb-5e34-475e-80f0-03146352088d",
   "metadata": {},
   "outputs": [
    {
     "name": "stdout",
     "output_type": "stream",
     "text": [
      "set()\n",
      "<class 'set'>\n"
     ]
    }
   ],
   "source": [
    "# an empty set\n",
    "var_set = set() # new empty set object\n",
    "print(var_set)\n",
    "print(type(var_set))"
   ]
  },
  {
   "cell_type": "code",
   "execution_count": 154,
   "id": "3df6d951-8bf6-4b1c-8e30-d9d73ff7565d",
   "metadata": {},
   "outputs": [],
   "source": [
    "var_set = {1,2,3,4,4,5,7,8,5,0,5}"
   ]
  },
  {
   "cell_type": "code",
   "execution_count": 155,
   "id": "2aff2936-52a2-4a0b-b635-041da18ae745",
   "metadata": {},
   "outputs": [
    {
     "name": "stdout",
     "output_type": "stream",
     "text": [
      "{0, 1, 2, 3, 4, 5, 7, 8}\n",
      "<class 'set'>\n"
     ]
    }
   ],
   "source": [
    "print(var_set)\n",
    "print(type(var_set))"
   ]
  },
  {
   "cell_type": "code",
   "execution_count": 156,
   "id": "dce4ff44-063e-486d-b72d-94c95e2383a7",
   "metadata": {},
   "outputs": [],
   "source": [
    "var_set = {'apple', 'bannana', 'orange', 'strawberry'}"
   ]
  },
  {
   "cell_type": "code",
   "execution_count": 157,
   "id": "834deea2-e1c8-44b2-847b-cf958bdf169c",
   "metadata": {},
   "outputs": [
    {
     "ename": "TypeError",
     "evalue": "'set' object is not subscriptable",
     "output_type": "error",
     "traceback": [
      "\u001b[1;31m---------------------------------------------------------------------------\u001b[0m",
      "\u001b[1;31mTypeError\u001b[0m                                 Traceback (most recent call last)",
      "\u001b[1;32m<ipython-input-157-d0680609edaa>\u001b[0m in \u001b[0;36m<module>\u001b[1;34m\u001b[0m\n\u001b[0;32m      1\u001b[0m \u001b[1;31m#indexing - set will not support indexing - because unordered set\u001b[0m\u001b[1;33m\u001b[0m\u001b[1;33m\u001b[0m\u001b[1;33m\u001b[0m\u001b[0m\n\u001b[0;32m      2\u001b[0m \u001b[1;33m\u001b[0m\u001b[0m\n\u001b[1;32m----> 3\u001b[1;33m \u001b[0mvar_set\u001b[0m\u001b[1;33m[\u001b[0m\u001b[1;36m0\u001b[0m\u001b[1;33m]\u001b[0m\u001b[1;33m\u001b[0m\u001b[1;33m\u001b[0m\u001b[0m\n\u001b[0m\u001b[0;32m      4\u001b[0m \u001b[1;33m\u001b[0m\u001b[0m\n\u001b[0;32m      5\u001b[0m \u001b[1;31m#ERROR: TypeError: 'set' object is not subscriptable\u001b[0m\u001b[1;33m\u001b[0m\u001b[1;33m\u001b[0m\u001b[1;33m\u001b[0m\u001b[0m\n",
      "\u001b[1;31mTypeError\u001b[0m: 'set' object is not subscriptable"
     ]
    }
   ],
   "source": [
    "#indexing - set will not support indexing - because unordered set\n",
    "\n",
    "var_set[0]\n",
    "\n",
    "#ERROR: TypeError: 'set' object is not subscriptable"
   ]
  },
  {
   "cell_type": "code",
   "execution_count": null,
   "id": "ad407a01-bc94-4535-8f8d-25b4b8584d90",
   "metadata": {},
   "outputs": [],
   "source": [
    "#indexing - set will not support indexing - because unordered set\n",
    "\n",
    "var_set['strawberry']\n",
    "\n",
    "#ERROR: TypeError: 'set' object is not subscriptable"
   ]
  },
  {
   "cell_type": "markdown",
   "id": "5f6d2232-8fad-45e0-afc7-28a0ac24cfdd",
   "metadata": {},
   "source": [
    "## In Set .add() Function\n",
    "- Add an element to a set"
   ]
  },
  {
   "cell_type": "code",
   "execution_count": null,
   "id": "14ced16b-1ea5-4d34-8848-ca085426c186",
   "metadata": {},
   "outputs": [],
   "source": [
    "var_set.add('Peach')"
   ]
  },
  {
   "cell_type": "code",
   "execution_count": 158,
   "id": "a2e4c17d-dd0e-43b2-95bc-19cf7f1c4148",
   "metadata": {},
   "outputs": [
    {
     "data": {
      "text/plain": [
       "{'apple', 'bannana', 'orange', 'strawberry'}"
      ]
     },
     "execution_count": 158,
     "metadata": {},
     "output_type": "execute_result"
    }
   ],
   "source": [
    "var_set"
   ]
  },
  {
   "cell_type": "markdown",
   "id": "4af06599-653f-45b8-80e0-ecdd181ce186",
   "metadata": {},
   "source": [
    "## In Set .difference() Function\n",
    "## In Set .difference_update() Function\n",
    "\n",
    "- all elements that are in this set but not the others\n",
    "- Remove all elements of another set from this set\n"
   ]
  },
  {
   "cell_type": "code",
   "execution_count": 159,
   "id": "4cf13f42-fa18-4783-be76-7d4e28899317",
   "metadata": {},
   "outputs": [],
   "source": [
    "var1_set = {'apple', 'bannana', 'orange', 'strawberry'}\n",
    "var2_set = {'apple', 'bannana', 'orange', 'strawberry','Peach', 'Cherry'}"
   ]
  },
  {
   "cell_type": "code",
   "execution_count": 160,
   "id": "861a06e0-2e97-437e-8f99-404120a23e50",
   "metadata": {},
   "outputs": [
    {
     "data": {
      "text/plain": [
       "set()"
      ]
     },
     "execution_count": 160,
     "metadata": {},
     "output_type": "execute_result"
    }
   ],
   "source": [
    "var1_set.difference(var2_set) # Output: empty set"
   ]
  },
  {
   "cell_type": "code",
   "execution_count": 161,
   "id": "4b885883-c4fd-4360-ac50-050515673b18",
   "metadata": {},
   "outputs": [
    {
     "data": {
      "text/plain": [
       "{'Cherry', 'Peach'}"
      ]
     },
     "execution_count": 161,
     "metadata": {},
     "output_type": "execute_result"
    }
   ],
   "source": [
    "var2_set.difference(var1_set) #  the difference between two given sets [var2_set - var1_set]"
   ]
  },
  {
   "cell_type": "code",
   "execution_count": 162,
   "id": "d2947d89-7704-4851-8352-012d9d93158b",
   "metadata": {},
   "outputs": [
    {
     "data": {
      "text/plain": [
       "{'Cherry', 'Peach'}"
      ]
     },
     "execution_count": 162,
     "metadata": {},
     "output_type": "execute_result"
    }
   ],
   "source": [
    "A = {'apple', 'bannana', 'orange', 'strawberry'}\n",
    "B= {'apple', 'bannana', 'orange', 'strawberry','Peach', 'Cherry'}\n",
    "A.difference(B) #A-B\n",
    "B.difference(A) #B-A"
   ]
  },
  {
   "cell_type": "code",
   "execution_count": 163,
   "id": "9afe043b-7e48-409e-9c35-77a2d4d5851e",
   "metadata": {},
   "outputs": [
    {
     "data": {
      "text/plain": [
       "set()"
      ]
     },
     "execution_count": 163,
     "metadata": {},
     "output_type": "execute_result"
    }
   ],
   "source": [
    "var1_set.difference_update(var2_set)\n",
    "var1_set"
   ]
  },
  {
   "cell_type": "code",
   "execution_count": 164,
   "id": "d36df74c-700a-49ef-88c4-c7a685e8a06c",
   "metadata": {},
   "outputs": [
    {
     "data": {
      "text/plain": [
       "{'Cherry', 'Peach', 'apple', 'bannana', 'orange', 'strawberry'}"
      ]
     },
     "execution_count": 164,
     "metadata": {},
     "output_type": "execute_result"
    }
   ],
   "source": [
    "var2_set.difference_update(var1_set)\n",
    "var2_set"
   ]
  },
  {
   "cell_type": "markdown",
   "id": "ba7c220a-15c6-4105-9b93-7587eb22d4f0",
   "metadata": {},
   "source": [
    "## In Set .intersection() Function\n",
    "## In Set .intersection_update() Function\n",
    "\n",
    "- all elements that are in both sets\n",
    "- Update a set with the intersection of itself and another"
   ]
  },
  {
   "cell_type": "code",
   "execution_count": 165,
   "id": "5545a166-ef6e-4a0b-a6a9-30836b357515",
   "metadata": {},
   "outputs": [],
   "source": [
    "var1_set = {'apple', 'bannana', 'orange', 'strawberry'}\n",
    "var2_set = {'apple', 'bannana', 'orange', 'strawberry','Peach', 'Cherry'}"
   ]
  },
  {
   "cell_type": "code",
   "execution_count": 166,
   "id": "bfea4bb1-3559-4b90-b59a-afb052b04a7e",
   "metadata": {},
   "outputs": [
    {
     "data": {
      "text/plain": [
       "{'apple', 'bannana', 'orange', 'strawberry'}"
      ]
     },
     "execution_count": 166,
     "metadata": {},
     "output_type": "execute_result"
    }
   ],
   "source": [
    "var2_set.intersection(var1_set) # all the elements which are common to both var1_set and var2_set"
   ]
  },
  {
   "cell_type": "code",
   "execution_count": 167,
   "id": "d46b63d4-b600-43c2-ba9d-8d3844c9ba4d",
   "metadata": {},
   "outputs": [
    {
     "data": {
      "text/plain": [
       "{'apple', 'bannana', 'orange', 'strawberry'}"
      ]
     },
     "execution_count": 167,
     "metadata": {},
     "output_type": "execute_result"
    }
   ],
   "source": [
    "var1_set.intersection(var2_set)"
   ]
  },
  {
   "cell_type": "code",
   "execution_count": 168,
   "id": "3a7b92b7-d0d2-428e-aa29-13f6a8043d4d",
   "metadata": {},
   "outputs": [
    {
     "data": {
      "text/plain": [
       "{'apple', 'bannana', 'orange', 'strawberry'}"
      ]
     },
     "execution_count": 168,
     "metadata": {},
     "output_type": "execute_result"
    }
   ],
   "source": [
    "var1_set.intersection_update(var2_set)\n",
    "var1_set"
   ]
  },
  {
   "cell_type": "code",
   "execution_count": 169,
   "id": "c9fd0c32-a079-4b9a-8bfc-9d338484e9aa",
   "metadata": {},
   "outputs": [
    {
     "data": {
      "text/plain": [
       "{'apple', 'bannana', 'orange', 'strawberry'}"
      ]
     },
     "execution_count": 169,
     "metadata": {},
     "output_type": "execute_result"
    }
   ],
   "source": [
    "var2_set.intersection_update(var1_set) # removes the items that is not present in both sets \n",
    "var2_set"
   ]
  },
  {
   "cell_type": "markdown",
   "id": "acff5853-65bd-4c22-8993-efc0f36e7060",
   "metadata": {},
   "source": [
    "## DICTIONARIES"
   ]
  },
  {
   "cell_type": "markdown",
   "id": "c2541599-a5c5-4187-b3e4-0b0470d54023",
   "metadata": {},
   "source": [
    "- Dictionaries are used to store data values in key:value pairs\n",
    "- A dictionary is a collection which is unordered, changeable, indexed and does not allow duplicates\n",
    "- Python dictionaries are written with curly brackets {}\n"
   ]
  },
  {
   "cell_type": "code",
   "execution_count": 170,
   "id": "3bf86f0f-2b4a-4fa8-b11c-462603cbb1b3",
   "metadata": {},
   "outputs": [],
   "source": [
    "dic ={}"
   ]
  },
  {
   "cell_type": "code",
   "execution_count": 171,
   "id": "fb3c53df-f558-429d-94dc-b93d5ebc06e7",
   "metadata": {},
   "outputs": [
    {
     "data": {
      "text/plain": [
       "dict"
      ]
     },
     "execution_count": 171,
     "metadata": {},
     "output_type": "execute_result"
    }
   ],
   "source": [
    "type(dic)"
   ]
  },
  {
   "cell_type": "code",
   "execution_count": 172,
   "id": "6a82e746-1b58-4ed9-994e-e9a72020a6c1",
   "metadata": {},
   "outputs": [
    {
     "data": {
      "text/plain": [
       "{}"
      ]
     },
     "execution_count": 172,
     "metadata": {},
     "output_type": "execute_result"
    }
   ],
   "source": [
    "dict(dic)"
   ]
  },
  {
   "cell_type": "code",
   "execution_count": 173,
   "id": "ec02e106-71e6-4bf0-a0aa-ee9f2015a628",
   "metadata": {},
   "outputs": [],
   "source": [
    "dic ={'apple', 'bannana', 'orange', 'strawberry','Peach', 'Cherry'} "
   ]
  },
  {
   "cell_type": "code",
   "execution_count": 174,
   "id": "d0316ee5-ec08-422b-96da-0fe2edcdd05a",
   "metadata": {},
   "outputs": [
    {
     "data": {
      "text/plain": [
       "set"
      ]
     },
     "execution_count": 174,
     "metadata": {},
     "output_type": "execute_result"
    }
   ],
   "source": [
    "type(dic) "
   ]
  },
  {
   "cell_type": "code",
   "execution_count": 189,
   "id": "acc2699e-790a-4146-a7a2-6e2311f9cb54",
   "metadata": {},
   "outputs": [],
   "source": [
    "# Create a Dictnatory\n",
    "# remember assign for dictionaries -> KEY:VALUE\n",
    "dic = {'fruit1': 'apple', 'fruit2': 'bannana', 'fruit3':'orange', 'fruit4':'strawberry', 'fruit5':'Peach', 'fruit6':'Cherry'}"
   ]
  },
  {
   "cell_type": "code",
   "execution_count": 176,
   "id": "072878e2-c142-4800-ac81-84c0ef9f8615",
   "metadata": {},
   "outputs": [
    {
     "data": {
      "text/plain": [
       "dict"
      ]
     },
     "execution_count": 176,
     "metadata": {},
     "output_type": "execute_result"
    }
   ],
   "source": [
    "type(dic)"
   ]
  },
  {
   "cell_type": "code",
   "execution_count": 177,
   "id": "2dbd9141-3b51-471c-aa9f-f15937d3962c",
   "metadata": {},
   "outputs": [
    {
     "data": {
      "text/plain": [
       "'strawberry'"
      ]
     },
     "execution_count": 177,
     "metadata": {},
     "output_type": "execute_result"
    }
   ],
   "source": [
    "dic['fruit4']"
   ]
  },
  {
   "cell_type": "code",
   "execution_count": 178,
   "id": "8973e2d3-1e88-4f4a-9b91-d7f2d3394f35",
   "metadata": {},
   "outputs": [
    {
     "name": "stdout",
     "output_type": "stream",
     "text": [
      "fruit1\n",
      "fruit2\n",
      "fruit3\n",
      "fruit4\n",
      "fruit5\n",
      "fruit6\n"
     ]
    }
   ],
   "source": [
    "for x in dic:\n",
    "    print(x)"
   ]
  },
  {
   "cell_type": "raw",
   "id": "4130f700-7be8-47b2-bb95-a16b3e5d6d30",
   "metadata": {},
   "source": [
    "    "
   ]
  },
  {
   "cell_type": "code",
   "execution_count": 179,
   "id": "d70b944c-f01b-4cb2-a92e-15a3204181b4",
   "metadata": {},
   "outputs": [
    {
     "name": "stdout",
     "output_type": "stream",
     "text": [
      "apple\n",
      "bannana\n",
      "orange\n",
      "strawberry\n",
      "Peach\n",
      "Cherry\n"
     ]
    }
   ],
   "source": [
    "for i in dic.values(): \n",
    "    print(i)"
   ]
  },
  {
   "cell_type": "code",
   "execution_count": 180,
   "id": "dcd6893a-4fa1-4bb6-a8a8-e452e600f5da",
   "metadata": {},
   "outputs": [
    {
     "name": "stdout",
     "output_type": "stream",
     "text": [
      "('fruit1', 'apple')\n",
      "('fruit2', 'bannana')\n",
      "('fruit3', 'orange')\n",
      "('fruit4', 'strawberry')\n",
      "('fruit5', 'Peach')\n",
      "('fruit6', 'Cherry')\n"
     ]
    }
   ],
   "source": [
    "for i in dic.items():\n",
    "    print(i)"
   ]
  },
  {
   "cell_type": "code",
   "execution_count": 194,
   "id": "895d8d5e-fa38-48e0-aa3e-18f87982355b",
   "metadata": {},
   "outputs": [
    {
     "name": "stdout",
     "output_type": "stream",
     "text": [
      "{'fruit1': 'apple', 'fruit2': 'bannana', 'fruit3': 'orange', 'fruit4': 'strawberry', 'fruit5': 'Peach', 'fruit6': 'Cherry', 'fruit7': 'Lemon'}\n"
     ]
    }
   ],
   "source": [
    "x = {'fruit7':'Lemon'}\n",
    "dic.update(x)\n",
    "print(dic)"
   ]
  },
  {
   "cell_type": "code",
   "execution_count": 195,
   "id": "57121c68-be57-44c4-96de-a80aba49f127",
   "metadata": {},
   "outputs": [],
   "source": [
    "dic['fruit5'] = 'Papaya' #update value"
   ]
  },
  {
   "cell_type": "code",
   "execution_count": 196,
   "id": "65e32be4-203f-4937-bbfe-a5f6d7d326fe",
   "metadata": {},
   "outputs": [
    {
     "data": {
      "text/plain": [
       "{'fruit1': 'apple',\n",
       " 'fruit2': 'bannana',\n",
       " 'fruit3': 'orange',\n",
       " 'fruit4': 'strawberry',\n",
       " 'fruit5': 'Papaya',\n",
       " 'fruit6': 'Cherry',\n",
       " 'fruit7': 'Lemon'}"
      ]
     },
     "execution_count": 196,
     "metadata": {},
     "output_type": "execute_result"
    }
   ],
   "source": [
    "dic"
   ]
  },
  {
   "cell_type": "markdown",
   "id": "97a8db7c-70a0-4df3-ad4a-1e2d8141f24f",
   "metadata": {},
   "source": [
    "## Nested Dictonary\n",
    "- a nested dictionary is a dictionary inside a dictionary. It's a collection of dictionaries into one single dictionary"
   ]
  },
  {
   "cell_type": "code",
   "execution_count": 199,
   "id": "ee8abc2a-cbf8-41c1-8740-1d5425eed0dc",
   "metadata": {},
   "outputs": [
    {
     "name": "stdout",
     "output_type": "stream",
     "text": [
      "{1: {'customer name': 'John', 'age': '27', 'sex': 'Male', 'email': 'john@gamil.com'}, 2: {'customer name': 'Marie', 'age': '22', 'sex': 'Female', 'email': 'marie@gamil.com'}}\n"
     ]
    }
   ],
   "source": [
    "customer_detail = {1: {'customer name': 'John', 'age': '27', 'sex': 'Male', 'email':'john@gamil.com'},\n",
    "                   2: {'customer name': 'Marie', 'age': '22', 'sex': 'Female', 'email':'marie@gamil.com'}}\n",
    "customer_detail\n",
    "print()"
   ]
  },
  {
   "cell_type": "code",
   "execution_count": 214,
   "id": "16a5f681-19e4-46ae-a18c-e8ce3d29c1bb",
   "metadata": {},
   "outputs": [
    {
     "name": "stdout",
     "output_type": "stream",
     "text": [
      "{'customer name': 'John', 'age': '27', 'sex': 'Male', 'email': 'john@gamil.com'}\n"
     ]
    }
   ],
   "source": [
    "#accessing the item in the dictonary\n",
    "print(customer_detail.get(1))"
   ]
  },
  {
   "cell_type": "code",
   "execution_count": 218,
   "id": "6265817a-115e-4ee4-8360-18d0b2f9a6f7",
   "metadata": {},
   "outputs": [
    {
     "name": "stdout",
     "output_type": "stream",
     "text": [
      "Marie\n"
     ]
    }
   ],
   "source": [
    "print(customer_detail[2]['customer name'])"
   ]
  },
  {
   "cell_type": "code",
   "execution_count": 219,
   "id": "c9a37d8c-f215-4ed2-a7d7-79d2b0659eb8",
   "metadata": {},
   "outputs": [
    {
     "name": "stdout",
     "output_type": "stream",
     "text": [
      "john@gamil.com\n"
     ]
    }
   ],
   "source": [
    "print(customer_detail[1]['email'])"
   ]
  },
  {
   "cell_type": "code",
   "execution_count": 220,
   "id": "8d8c8246-d662-4066-887d-65ea56af91d4",
   "metadata": {},
   "outputs": [
    {
     "name": "stdout",
     "output_type": "stream",
     "text": [
      "{'customer name': 'Luna', 'age': '24', 'sex': 'Female', 'email': '-'}\n"
     ]
    }
   ],
   "source": [
    "# Add a new customer in the existing dictonary\n",
    "customer_detail[3] = {}\n",
    "\n",
    "customer_detail [3]['customer name'] = 'Luna'\n",
    "customer_detail [3]['age'] = '24'\n",
    "customer_detail [3]['sex'] = 'Female'\n",
    "customer_detail [3]['email'] = '-'\n",
    "\n",
    "print(customer_detail[3])"
   ]
  },
  {
   "cell_type": "code",
   "execution_count": 222,
   "id": "e4313e18-87ae-4aae-91e3-0e13a7e67972",
   "metadata": {},
   "outputs": [
    {
     "name": "stdout",
     "output_type": "stream",
     "text": [
      "{1: {'customer name': 'John', 'age': '27', 'sex': 'Male', 'email': 'john@gamil.com'}, 2: {'customer name': 'Marie', 'age': '22', 'sex': 'Female', 'email': 'marie@gamil.com'}, 3: {'customer name': 'Luna', 'age': '24', 'sex': 'Female', 'email': '-'}}\n"
     ]
    }
   ],
   "source": [
    "print(customer_detail)"
   ]
  },
  {
   "cell_type": "code",
   "execution_count": 224,
   "id": "94532fc8-08c4-4cd5-810c-2e48ac39da8a",
   "metadata": {},
   "outputs": [
    {
     "name": "stdout",
     "output_type": "stream",
     "text": [
      "\n",
      "Customer ID: 1\n",
      "customer name: John\n",
      "age: 27\n",
      "sex: Male\n",
      "email: john@gamil.com\n",
      "\n",
      "Customer ID: 2\n",
      "customer name: Marie\n",
      "age: 22\n",
      "sex: Female\n",
      "email: marie@gamil.com\n",
      "\n",
      "Customer ID: 3\n",
      "customer name: Luna\n",
      "age: 24\n",
      "sex: Female\n",
      "email: -\n"
     ]
    }
   ],
   "source": [
    "#Iterating Through a Nested Dictionary\n",
    "\n",
    "\n",
    "for c_id, c_info in customer_detail.items():\n",
    "    print(\"\\nCustomer ID:\", c_id)\n",
    "    \n",
    "    for key in c_info:\n",
    "        print(key + ':', c_info[key])"
   ]
  },
  {
   "cell_type": "markdown",
   "id": "bf31ac56-c8d3-41c8-bd44-55b1b5905c6e",
   "metadata": {},
   "source": [
    "## Tuple\n",
    "- Python tuples are a data structure that store an ordered sequence of values. Tuples are immutable. This means you cannot change the values in a tuple. Tuples are defined with parenthesis.\n",
    "- Allow Duplicates\n"
   ]
  },
  {
   "cell_type": "code",
   "execution_count": 236,
   "id": "9a0034ab-277c-49e7-9a09-2b7d0835820c",
   "metadata": {},
   "outputs": [],
   "source": [
    "tup = tuple() # an empty tuple"
   ]
  },
  {
   "cell_type": "code",
   "execution_count": 252,
   "id": "eb8c95ee-02a8-4ea7-9f11-294b3d48d9c6",
   "metadata": {},
   "outputs": [],
   "source": [
    "tup = (\"apple\", \"apple\", \"banana\", \"cherry\")"
   ]
  },
  {
   "cell_type": "code",
   "execution_count": 253,
   "id": "47809c19-7890-45c5-9a94-4f68bd0c9e61",
   "metadata": {},
   "outputs": [
    {
     "data": {
      "text/plain": [
       "tuple"
      ]
     },
     "execution_count": 253,
     "metadata": {},
     "output_type": "execute_result"
    }
   ],
   "source": [
    "type(tup)"
   ]
  },
  {
   "cell_type": "code",
   "execution_count": 254,
   "id": "6c293119-0fc0-4dca-8001-c0b5035097f0",
   "metadata": {},
   "outputs": [
    {
     "data": {
      "text/plain": [
       "'banana'"
      ]
     },
     "execution_count": 254,
     "metadata": {},
     "output_type": "execute_result"
    }
   ],
   "source": [
    "tup[2]"
   ]
  },
  {
   "cell_type": "code",
   "execution_count": 255,
   "id": "9b8b7da2-c057-4e4e-b432-d42139335a85",
   "metadata": {},
   "outputs": [
    {
     "data": {
      "text/plain": [
       "2"
      ]
     },
     "execution_count": 255,
     "metadata": {},
     "output_type": "execute_result"
    }
   ],
   "source": [
    "tup.count('apple') # the number of times the specified element appears in the tuple"
   ]
  },
  {
   "cell_type": "code",
   "execution_count": 246,
   "id": "a7be35f4-70ff-432f-96d1-96f561750b42",
   "metadata": {},
   "outputs": [
    {
     "ename": "TypeError",
     "evalue": "'tuple' object does not support item assignment",
     "output_type": "error",
     "traceback": [
      "\u001b[1;31m---------------------------------------------------------------------------\u001b[0m",
      "\u001b[1;31mTypeError\u001b[0m                                 Traceback (most recent call last)",
      "\u001b[1;32m<ipython-input-246-240cdea8f87b>\u001b[0m in \u001b[0;36m<module>\u001b[1;34m\u001b[0m\n\u001b[1;32m----> 1\u001b[1;33m \u001b[0mtup\u001b[0m\u001b[1;33m[\u001b[0m\u001b[1;36m0\u001b[0m\u001b[1;33m]\u001b[0m \u001b[1;33m=\u001b[0m \u001b[1;34m'orange'\u001b[0m \u001b[1;31m#'tuple' object does not support item assignment or cannot change (ERROR)\u001b[0m\u001b[1;33m\u001b[0m\u001b[1;33m\u001b[0m\u001b[0m\n\u001b[0m",
      "\u001b[1;31mTypeError\u001b[0m: 'tuple' object does not support item assignment"
     ]
    }
   ],
   "source": [
    "tup[0] = 'orange' #'tuple' object does not support item assignment or cannot change (ERROR)"
   ]
  },
  {
   "cell_type": "code",
   "execution_count": 247,
   "id": "4563608d-8c98-461f-9ff7-04113e23ec1a",
   "metadata": {},
   "outputs": [],
   "source": [
    "tup = ('bob', 'sam', 'dunk') # you can change compeletly"
   ]
  },
  {
   "cell_type": "code",
   "execution_count": 248,
   "id": "2d042be2-847c-4d16-86bd-432ee93b2f52",
   "metadata": {},
   "outputs": [
    {
     "data": {
      "text/plain": [
       "('bob', 'sam', 'dunk')"
      ]
     },
     "execution_count": 248,
     "metadata": {},
     "output_type": "execute_result"
    }
   ],
   "source": [
    "tup"
   ]
  },
  {
   "cell_type": "code",
   "execution_count": 250,
   "id": "e90d6c4e-3ca1-4a4f-aded-0d6bae014e67",
   "metadata": {},
   "outputs": [
    {
     "name": "stdout",
     "output_type": "stream",
     "text": [
      "<class 'tuple'>\n",
      "<class 'str'>\n"
     ]
    }
   ],
   "source": [
    "tup= (\"apple\",) # comma -> Tuple\n",
    "print(type(tup))\n",
    "\n",
    "#NOT a tuple\n",
    "tup = (\"apple\") # No comma -> String \n",
    "print(type(tup))"
   ]
  },
  {
   "cell_type": "markdown",
   "id": "255b80e4-7bdf-4732-be4a-55032aaa1360",
   "metadata": {},
   "source": [
    "# IMPORTANT POINTS:\n",
    "\n",
    "## There are four collection data types in the Python:\n",
    "\n",
    "- List is a collection which is ordered and changeable. Allows duplicate elements.\n",
    "- Tuple is a collection which is ordered and unchangeable. Allows duplicate elements.\n",
    "- Set is a collection which is unordered and unindexed. No duplicateelements.\n",
    "- Dictionary is a collection which is ordered* and changeable. No duplicate elements."
   ]
  }
 ],
 "metadata": {
  "kernelspec": {
   "display_name": "Python 3",
   "language": "python",
   "name": "python3"
  },
  "language_info": {
   "codemirror_mode": {
    "name": "ipython",
    "version": 3
   },
   "file_extension": ".py",
   "mimetype": "text/x-python",
   "name": "python",
   "nbconvert_exporter": "python",
   "pygments_lexer": "ipython3",
   "version": "3.8.8"
  }
 },
 "nbformat": 4,
 "nbformat_minor": 5
}
