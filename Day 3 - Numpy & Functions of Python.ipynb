{
 "cells": [
  {
   "cell_type": "markdown",
   "id": "15b63008-cba2-46a6-be9a-07bd6becdd1e",
   "metadata": {},
   "source": [
    "# NUMPY BASIC\n",
    "- NumPy used to working array; Num->Numerical; Py->Python\n",
    "- It also has functions for working in domain of linear algebra, fourier transform, and matrices\n",
    "- To speed up the process using array in numpy rather than list\n"
   ]
  },
  {
   "cell_type": "code",
   "execution_count": 1,
   "id": "65ce93e8-3ce2-4eb0-bbe9-c1932511f482",
   "metadata": {},
   "outputs": [
    {
     "name": "stdout",
     "output_type": "stream",
     "text": [
      "1.20.1\n"
     ]
    }
   ],
   "source": [
    "# Import Numpy library -> terminal or Anaconda prompt type -> pip install numpy\n",
    "# alias -> numpy as np\n",
    "import numpy as np\n",
    "print(np.__version__)"
   ]
  },
  {
   "cell_type": "markdown",
   "id": "4a170d7a-446c-4733-a6af-430242a9d44f",
   "metadata": {},
   "source": [
    "## Creating an Array\n",
    "    1-D Arrays\n",
    "- To create an ndarray, we can pass a list, tuple or any array-like object into the array() method, and it will be converted into an ndarray"
   ]
  },
  {
   "cell_type": "code",
   "execution_count": 2,
   "id": "f59e3b61-f6ae-49db-8e0f-50825608ff82",
   "metadata": {},
   "outputs": [
    {
     "name": "stdout",
     "output_type": "stream",
     "text": [
      "{2, 3, 99, 100, 6, 7, 3.14, 9, 12, 45, 23, 56.98, 92}\n"
     ]
    }
   ],
   "source": [
    "# The array object in NumPy is called ndarray\n",
    "lst = {2,3,7,9,3,6,12,45,99,23,92,100,3.14,56.98}\n",
    "arr = np.array(lst) \n",
    "print(arr)"
   ]
  },
  {
   "cell_type": "markdown",
   "id": "2f1ed2d4-4f0d-4860-a6ac-4b91f10e8698",
   "metadata": {},
   "source": [
    "## 2-D Arrays\n",
    "- 2-D Arrays are often used to represent matrix\n",
    "- Note: NumPy has a whole sub module dedicated towards matrix operations called numpy.mat"
   ]
  },
  {
   "cell_type": "code",
   "execution_count": 34,
   "id": "470f881e-0b5d-436d-b50a-ef196700e205",
   "metadata": {},
   "outputs": [],
   "source": [
    "a = [1,2,3,4,5]\n",
    "b = [26,45,67,89,12]\n",
    "c = [0,56,34,95,112]\n",
    "\n",
    "arr = np.array([a,b,c])"
   ]
  },
  {
   "cell_type": "code",
   "execution_count": 35,
   "id": "a26d1900-e831-4070-8038-1bf8e06f1a60",
   "metadata": {},
   "outputs": [
    {
     "data": {
      "text/plain": [
       "array([[  1,   2,   3,   4,   5],\n",
       "       [ 26,  45,  67,  89,  12],\n",
       "       [  0,  56,  34,  95, 112]])"
      ]
     },
     "execution_count": 35,
     "metadata": {},
     "output_type": "execute_result"
    }
   ],
   "source": [
    "arr"
   ]
  },
  {
   "cell_type": "markdown",
   "id": "6425e36f-ecf4-4a3b-91e8-bf03b632a412",
   "metadata": {},
   "source": [
    "## 3-D arrays"
   ]
  },
  {
   "cell_type": "code",
   "execution_count": 5,
   "id": "6c108fd4-b516-42c5-9dc8-6518dc7e9c44",
   "metadata": {},
   "outputs": [
    {
     "data": {
      "text/plain": [
       "array([[[1, 2, 3],\n",
       "        [4, 5, 6]],\n",
       "\n",
       "       [[1, 2, 3],\n",
       "        [4, 5, 6]]])"
      ]
     },
     "execution_count": 5,
     "metadata": {},
     "output_type": "execute_result"
    }
   ],
   "source": [
    "a = ([[[1, 2, 3], [4, 5, 6]], [[1, 2, 3], [4, 5, 6]]])\n",
    "arr = np.array(a)\n",
    "arr"
   ]
  },
  {
   "cell_type": "markdown",
   "id": "9a9fb388-383f-4cb6-9105-6abf415c7f8a",
   "metadata": {},
   "source": [
    "## Number of Dimensions\n",
    "- The number of dimensions by using the ndmin argument"
   ]
  },
  {
   "cell_type": "code",
   "execution_count": 6,
   "id": "22f8d5ba-17d7-4513-a877-af237219303f",
   "metadata": {},
   "outputs": [
    {
     "name": "stdout",
     "output_type": "stream",
     "text": [
      "0\n",
      "1\n",
      "2\n",
      "3\n"
     ]
    }
   ],
   "source": [
    "a = np.array(42)\n",
    "b = np.array([1, 2, 3, 4, 5])\n",
    "c = np.array([[1, 2, 3], [4, 5, 6]])\n",
    "d = np.array([[[1, 2, 3], [4, 5, 6]], [[1, 2, 3], [4, 5, 6]]])\n",
    "\n",
    "print(a.ndim)\n",
    "print(b.ndim)\n",
    "print(c.ndim)\n",
    "print(d.ndim)"
   ]
  },
  {
   "cell_type": "markdown",
   "id": "46ac9639-6af5-497c-b9ce-5fce78548f93",
   "metadata": {},
   "source": [
    "## Multi-Dimensional Arrays"
   ]
  },
  {
   "cell_type": "code",
   "execution_count": 7,
   "id": "0fc98182-761e-4688-a856-20ffd5c4e397",
   "metadata": {},
   "outputs": [
    {
     "data": {
      "text/plain": [
       "array([[[[[[10, 20, 30, 30, 40, 50]]]]]])"
      ]
     },
     "execution_count": 7,
     "metadata": {},
     "output_type": "execute_result"
    }
   ],
   "source": [
    "a = [10,20,30,30,40,50]\n",
    "arr = np.array(a, ndmin = 6)\n",
    "arr"
   ]
  },
  {
   "cell_type": "code",
   "execution_count": 8,
   "id": "96e019fa-2261-4836-8e2b-737da9b90e1e",
   "metadata": {},
   "outputs": [
    {
     "name": "stdout",
     "output_type": "stream",
     "text": [
      "Number of Dimentions:  6 \n",
      "Array: [[[[[[10 20 30 30 40 50]]]]]]\n"
     ]
    }
   ],
   "source": [
    "print(\"Number of Dimentions: \", arr.ndim,  \"\\nArray:\", arr)"
   ]
  },
  {
   "cell_type": "markdown",
   "id": "f4a49731-03af-4954-bc09-36864574a3e7",
   "metadata": {},
   "source": [
    "## Array Indexing\n",
    "- Access an array element by referring to its index number"
   ]
  },
  {
   "cell_type": "code",
   "execution_count": 9,
   "id": "44837f9c-ba68-4d7f-8484-945c7bcbb750",
   "metadata": {},
   "outputs": [
    {
     "name": "stdout",
     "output_type": "stream",
     "text": [
      "3rd element: 3\n"
     ]
    }
   ],
   "source": [
    "# 1-D Arrays\n",
    "a = [1,2,3,4]\n",
    "arr = np.array(a)\n",
    "print('3rd element:',arr[2])"
   ]
  },
  {
   "cell_type": "code",
   "execution_count": 10,
   "id": "79af79c7-d40b-4292-be4b-bc9a503806c3",
   "metadata": {},
   "outputs": [
    {
     "name": "stdout",
     "output_type": "stream",
     "text": [
      "3rd element on the 2nd array: 41\n"
     ]
    }
   ],
   "source": [
    "# 2-D Arrays\n",
    "a = ([1,2,3,4],[21,31,41,51])\n",
    "arr = np.array(a)\n",
    "print('3rd element on the 2nd array:',arr[1,2])"
   ]
  },
  {
   "cell_type": "code",
   "execution_count": 11,
   "id": "631df335-8626-4650-b6a2-37aba994dc76",
   "metadata": {},
   "outputs": [
    {
     "data": {
      "text/plain": [
       "array([[ 1,  2,  3,  4],\n",
       "       [21, 31, 41, 51]])"
      ]
     },
     "execution_count": 11,
     "metadata": {},
     "output_type": "execute_result"
    }
   ],
   "source": [
    "arr[:,:] #select all row column"
   ]
  },
  {
   "cell_type": "code",
   "execution_count": 12,
   "id": "e5cf8dc9-271c-4374-99c3-cc70dd8a444a",
   "metadata": {},
   "outputs": [
    {
     "data": {
      "text/plain": [
       "array([[ 1,  2,  3,  4],\n",
       "       [21, 31, 41, 51]])"
      ]
     },
     "execution_count": 12,
     "metadata": {},
     "output_type": "execute_result"
    }
   ],
   "source": [
    "arr[0:2,:] # until row 2 pickup and show; OUTPUT: first 2 rows which index 0,1"
   ]
  },
  {
   "cell_type": "code",
   "execution_count": 13,
   "id": "9af029d1-10eb-4960-b9a7-91c049f436b4",
   "metadata": {},
   "outputs": [
    {
     "data": {
      "text/plain": [
       "array([[ 1,  2],\n",
       "       [21, 31]])"
      ]
     },
     "execution_count": 13,
     "metadata": {},
     "output_type": "execute_result"
    }
   ],
   "source": [
    "arr[0:2,0:2] #first 2 columns picking up"
   ]
  },
  {
   "cell_type": "code",
   "execution_count": 14,
   "id": "4b9f9849-4e2f-4fb2-b5da-1079f8a44f0c",
   "metadata": {},
   "outputs": [
    {
     "data": {
      "text/plain": [
       "array([[ 2,  3],\n",
       "       [31, 41]])"
      ]
     },
     "execution_count": 14,
     "metadata": {},
     "output_type": "execute_result"
    }
   ],
   "source": [
    "arr[0:2,1:3] # 0:2->Rows 0,1; 1:3->Columns 1,2"
   ]
  },
  {
   "cell_type": "code",
   "execution_count": 15,
   "id": "c0a3e202-0da3-4097-957d-36c27abd84da",
   "metadata": {},
   "outputs": [
    {
     "data": {
      "text/plain": [
       "array([[31, 41, 51]])"
      ]
     },
     "execution_count": 15,
     "metadata": {},
     "output_type": "execute_result"
    }
   ],
   "source": [
    "arr[1:2,1:4] "
   ]
  },
  {
   "cell_type": "markdown",
   "id": "8886b8a4-d044-49d2-995b-7fcf7872b27e",
   "metadata": {},
   "source": [
    "## arange()\n",
    "- SYNTAX: arange([start,] stop[, step], dtype = None])"
   ]
  },
  {
   "cell_type": "code",
   "execution_count": 16,
   "id": "f70c1d6a-919d-4225-80be-80c96136c098",
   "metadata": {},
   "outputs": [],
   "source": [
    "arr = np.arange(0,11)"
   ]
  },
  {
   "cell_type": "code",
   "execution_count": 17,
   "id": "30064da3-bca7-481c-9e82-72da20d145e9",
   "metadata": {},
   "outputs": [
    {
     "data": {
      "text/plain": [
       "array([ 0,  1,  2,  3,  4,  5,  6,  7,  8,  9, 10])"
      ]
     },
     "execution_count": 17,
     "metadata": {},
     "output_type": "execute_result"
    }
   ],
   "source": [
    "arr"
   ]
  },
  {
   "cell_type": "code",
   "execution_count": 30,
   "id": "0983dfe6-a2a8-470d-9257-a74e39726d87",
   "metadata": {},
   "outputs": [],
   "source": [
    "arr =np.arange(0,11,2)"
   ]
  },
  {
   "cell_type": "code",
   "execution_count": 31,
   "id": "9afa817c-eb5b-4078-b283-56eb1eadd0af",
   "metadata": {},
   "outputs": [
    {
     "data": {
      "text/plain": [
       "array([ 0,  2,  4,  6,  8, 10])"
      ]
     },
     "execution_count": 31,
     "metadata": {},
     "output_type": "execute_result"
    }
   ],
   "source": [
    "arr"
   ]
  },
  {
   "cell_type": "markdown",
   "id": "429d43e1",
   "metadata": {},
   "source": [
    "## linspace() \n",
    "- creating numeric sequences"
   ]
  },
  {
   "cell_type": "code",
   "execution_count": 38,
   "id": "d74d05ff",
   "metadata": {},
   "outputs": [
    {
     "data": {
      "text/plain": [
       "array([ 1.        ,  1.47368421,  1.94736842,  2.42105263,  2.89473684,\n",
       "        3.36842105,  3.84210526,  4.31578947,  4.78947368,  5.26315789,\n",
       "        5.73684211,  6.21052632,  6.68421053,  7.15789474,  7.63157895,\n",
       "        8.10526316,  8.57894737,  9.05263158,  9.52631579, 10.        ])"
      ]
     },
     "execution_count": 38,
     "metadata": {},
     "output_type": "execute_result"
    }
   ],
   "source": [
    "np.linspace(1,10,20)"
   ]
  },
  {
   "cell_type": "code",
   "execution_count": 20,
   "id": "ad9fdc8d-c0a7-406e-a350-69221e8b8d18",
   "metadata": {},
   "outputs": [
    {
     "name": "stdout",
     "output_type": "stream",
     "text": [
      "3\n"
     ]
    }
   ],
   "source": [
    "# add\n",
    "a1 = ([1,2,3,4])\n",
    "arr = np.array(a1)\n",
    "print(arr[0] + arr[1])"
   ]
  },
  {
   "cell_type": "code",
   "execution_count": 21,
   "id": "629793e4-5c27-4894-91bd-f2d967d9964b",
   "metadata": {},
   "outputs": [
    {
     "name": "stdout",
     "output_type": "stream",
     "text": [
      "6\n"
     ]
    }
   ],
   "source": [
    "# 3-D Arrays\n",
    "arr = np.array([[[1, 2, 3], [4, 5, 6]], [[7, 8, 9], [10, 11, 12]]])\n",
    "print(arr[0, 1, 2])"
   ]
  },
  {
   "cell_type": "markdown",
   "id": "0ca7c898-3de1-4d39-8042-4e4721725ed2",
   "metadata": {},
   "source": [
    "## negative indexing to access an array from the end"
   ]
  },
  {
   "cell_type": "code",
   "execution_count": 22,
   "id": "7b618366-c0ce-4bc7-bf5a-a217b5e000f9",
   "metadata": {},
   "outputs": [
    {
     "name": "stdout",
     "output_type": "stream",
     "text": [
      "Last element from 2nd dim:  10\n"
     ]
    }
   ],
   "source": [
    "arr = np.array([[1,2,3,4,5], [6,7,8,9,10]])\n",
    "print('Last element from 2nd dim: ', arr[1, -1]) #negative indexing to access an array from the end"
   ]
  },
  {
   "cell_type": "markdown",
   "id": "7d18340e-7202-46ab-aea9-9725f796654d",
   "metadata": {},
   "source": [
    "## Shape\n",
    "- NumPy arrays have an attribute called shape that returns a tuple with each index having the number of corresponding elements."
   ]
  },
  {
   "cell_type": "code",
   "execution_count": 23,
   "id": "13980974-b4f7-415a-a52b-34b9d58ae258",
   "metadata": {},
   "outputs": [],
   "source": [
    "lst = ([2,3,7,9,3,6,12,45,99,23,92,100,3.14,56.98])\n",
    "arr = np.array(lst) "
   ]
  },
  {
   "cell_type": "code",
   "execution_count": 24,
   "id": "4b43b2c4-a99e-40cd-9282-835df5af4867",
   "metadata": {},
   "outputs": [
    {
     "name": "stdout",
     "output_type": "stream",
     "text": [
      "(14,)\n"
     ]
    }
   ],
   "source": [
    "print(arr.shape)"
   ]
  },
  {
   "cell_type": "code",
   "execution_count": 25,
   "id": "74888b95-6a90-4813-846d-65a863bb5d58",
   "metadata": {},
   "outputs": [],
   "source": [
    "# 2-D Arrays\n",
    "a = [1,2,3,4,5]\n",
    "b = [26,45,67,89,12]\n",
    "c = [0,56,34,95,112]\n",
    "\n",
    "arr = np.array([a,b,c]) "
   ]
  },
  {
   "cell_type": "code",
   "execution_count": 26,
   "id": "6ed06d6c-155c-429a-a510-1bed25fb1203",
   "metadata": {},
   "outputs": [
    {
     "data": {
      "text/plain": [
       "array([[  1,   2,   3,   4,   5],\n",
       "       [ 26,  45,  67,  89,  12],\n",
       "       [  0,  56,  34,  95, 112]])"
      ]
     },
     "execution_count": 26,
     "metadata": {},
     "output_type": "execute_result"
    }
   ],
   "source": [
    "arr"
   ]
  },
  {
   "cell_type": "code",
   "execution_count": 27,
   "id": "7fac23ff-c813-45f4-bb41-bb30ca39807c",
   "metadata": {},
   "outputs": [
    {
     "data": {
      "text/plain": [
       "(3, 5)"
      ]
     },
     "execution_count": 27,
     "metadata": {},
     "output_type": "execute_result"
    }
   ],
   "source": [
    "arr.shape"
   ]
  },
  {
   "cell_type": "code",
   "execution_count": 28,
   "id": "7642626d-52dc-4fc5-a0f2-e1c5bb349c17",
   "metadata": {},
   "outputs": [
    {
     "data": {
      "text/plain": [
       "array([[  1,   2,   3],\n",
       "       [  4,   5,  26],\n",
       "       [ 45,  67,  89],\n",
       "       [ 12,   0,  56],\n",
       "       [ 34,  95, 112]])"
      ]
     },
     "execution_count": 28,
     "metadata": {},
     "output_type": "execute_result"
    }
   ],
   "source": [
    "arr.reshape(5,3) #rows 5  columns 3"
   ]
  },
  {
   "cell_type": "code",
   "execution_count": 29,
   "id": "da038d96-9b09-4c64-bfce-4bbb40250d8d",
   "metadata": {},
   "outputs": [
    {
     "data": {
      "text/plain": [
       "array([[  1,   2,   3,   4,   5,  26,  45,  67,  89,  12,   0,  56,  34,\n",
       "         95, 112]])"
      ]
     },
     "execution_count": 29,
     "metadata": {},
     "output_type": "execute_result"
    }
   ],
   "source": [
    "arr.reshape(1,15)"
   ]
  },
  {
   "cell_type": "code",
   "execution_count": 71,
   "id": "d43553e9",
   "metadata": {},
   "outputs": [
    {
     "data": {
      "text/plain": [
       "array([[0, 1, 2, 3, 4],\n",
       "       [5, 6, 7, 8, 9]])"
      ]
     },
     "execution_count": 71,
     "metadata": {},
     "output_type": "execute_result"
    }
   ],
   "source": [
    "# create an array and reshape\n",
    "np.arange(0,10).reshape(2,5)"
   ]
  },
  {
   "cell_type": "code",
   "execution_count": 74,
   "id": "771a7787",
   "metadata": {},
   "outputs": [],
   "source": [
    "arr1 = np.arange(0,10).reshape(2,5)\n",
    "arr2 = np.arange(10,20).reshape(2,5)"
   ]
  },
  {
   "cell_type": "code",
   "execution_count": 76,
   "id": "31593a89",
   "metadata": {},
   "outputs": [
    {
     "data": {
      "text/plain": [
       "array([[10, 12, 14, 16, 18],\n",
       "       [20, 22, 24, 26, 28]])"
      ]
     },
     "execution_count": 76,
     "metadata": {},
     "output_type": "execute_result"
    }
   ],
   "source": [
    "arr1 + arr2"
   ]
  },
  {
   "cell_type": "markdown",
   "id": "9434e9aa",
   "metadata": {},
   "source": [
    "## Copy Function and Broadcasting"
   ]
  },
  {
   "cell_type": "code",
   "execution_count": 44,
   "id": "7b1a3a40",
   "metadata": {},
   "outputs": [
    {
     "data": {
      "text/plain": [
       "array([  2.  ,   3.  ,   7.  ,   9.  ,   3.  ,   6.  ,  12.  ,  45.  ,\n",
       "        99.  ,  23.  ,  92.  , 100.  ,   3.14,  56.98])"
      ]
     },
     "execution_count": 44,
     "metadata": {},
     "output_type": "execute_result"
    }
   ],
   "source": [
    "lst = ([2,3,7,9,3,6,12,45,99,23,92,100,3.14,56.98])\n",
    "arr = np.array(lst) \n",
    "arr"
   ]
  },
  {
   "cell_type": "code",
   "execution_count": 45,
   "id": "ff7e0cc5",
   "metadata": {},
   "outputs": [],
   "source": [
    "arr[3:4] = 0"
   ]
  },
  {
   "cell_type": "code",
   "execution_count": 48,
   "id": "6a1c9103",
   "metadata": {},
   "outputs": [
    {
     "name": "stdout",
     "output_type": "stream",
     "text": [
      "[  2.     3.     7.     0.     3.     6.    12.    45.    99.    23.\n",
      "  92.   100.     3.14  56.98]\n"
     ]
    }
   ],
   "source": [
    "print(arr)"
   ]
  },
  {
   "cell_type": "code",
   "execution_count": 49,
   "id": "f5c4fff8",
   "metadata": {},
   "outputs": [],
   "source": [
    "arr1 = arr"
   ]
  },
  {
   "cell_type": "code",
   "execution_count": 50,
   "id": "b4bca525",
   "metadata": {},
   "outputs": [
    {
     "name": "stdout",
     "output_type": "stream",
     "text": [
      "[  2.     3.     7.    10.     3.     6.    12.    45.    99.    23.\n",
      "  92.   100.     3.14  56.98]\n"
     ]
    }
   ],
   "source": [
    "# reference type\n",
    "arr1[3:4] = 10\n",
    "print(arr1)"
   ]
  },
  {
   "cell_type": "code",
   "execution_count": 53,
   "id": "9f7d5f07",
   "metadata": {},
   "outputs": [
    {
     "data": {
      "text/plain": [
       "array([  2.  ,   3.  ,   7.  ,  10.  ,   3.  ,   6.  ,  12.  ,  45.  ,\n",
       "        99.  ,  23.  ,  92.  , 100.  ,   3.14,  56.98])"
      ]
     },
     "execution_count": 53,
     "metadata": {},
     "output_type": "execute_result"
    }
   ],
   "source": [
    "# reference type \n",
    "arr"
   ]
  },
  {
   "cell_type": "markdown",
   "id": "a54ed076",
   "metadata": {},
   "source": [
    "- In order to prevent reference type we will use copy"
   ]
  },
  {
   "cell_type": "code",
   "execution_count": 55,
   "id": "00b89fe3",
   "metadata": {},
   "outputs": [],
   "source": [
    "arr1 = arr.copy()"
   ]
  },
  {
   "cell_type": "code",
   "execution_count": 54,
   "id": "8433fc4a",
   "metadata": {},
   "outputs": [
    {
     "name": "stdout",
     "output_type": "stream",
     "text": [
      "[  2.     3.     7.    10.     3.     6.    12.    45.    99.    23.\n",
      "  92.   100.     3.14  56.98]\n",
      "[  2.     3.     7.     9.     3.     6.    12.    45.    99.    23.\n",
      "  92.   100.     3.14  56.98]\n"
     ]
    }
   ],
   "source": [
    "print(arr)\n",
    "arr1[3:4] = 9\n",
    "print(arr1)"
   ]
  },
  {
   "cell_type": "code",
   "execution_count": 60,
   "id": "dc160100",
   "metadata": {},
   "outputs": [
    {
     "data": {
      "text/plain": [
       "array([ True,  True,  True,  True,  True,  True,  True, False, False,\n",
       "       False, False, False,  True, False])"
      ]
     },
     "execution_count": 60,
     "metadata": {},
     "output_type": "execute_result"
    }
   ],
   "source": [
    "# Exploratory Data Analysis [conditions]\n",
    "\n",
    "var = 1\n",
    "\n",
    "arr < 23 #condition"
   ]
  },
  {
   "cell_type": "code",
   "execution_count": 61,
   "id": "b31be201",
   "metadata": {},
   "outputs": [
    {
     "data": {
      "text/plain": [
       "array([  4.  ,   6.  ,  14.  ,  18.  ,   6.  ,  12.  ,  24.  ,  90.  ,\n",
       "       198.  ,  46.  , 184.  , 200.  ,   6.28, 113.96])"
      ]
     },
     "execution_count": 61,
     "metadata": {},
     "output_type": "execute_result"
    }
   ],
   "source": [
    "arr * 2 #operation"
   ]
  },
  {
   "cell_type": "code",
   "execution_count": 67,
   "id": "ff2fa4b8",
   "metadata": {},
   "outputs": [
    {
     "data": {
      "text/plain": [
       "array([2.  , 3.  , 3.  , 3.14])"
      ]
     },
     "execution_count": 67,
     "metadata": {},
     "output_type": "execute_result"
    }
   ],
   "source": [
    "arr[arr < 4] #condition with showing elements"
   ]
  },
  {
   "cell_type": "markdown",
   "id": "de8a6189",
   "metadata": {},
   "source": [
    "## np.ones()"
   ]
  },
  {
   "cell_type": "code",
   "execution_count": 77,
   "id": "e8c073b7",
   "metadata": {},
   "outputs": [
    {
     "data": {
      "text/plain": [
       "array([1., 1., 1., 1., 1.])"
      ]
     },
     "execution_count": 77,
     "metadata": {},
     "output_type": "execute_result"
    }
   ],
   "source": [
    "np.ones(5)"
   ]
  },
  {
   "cell_type": "code",
   "execution_count": 81,
   "id": "5c21eb7d",
   "metadata": {},
   "outputs": [
    {
     "data": {
      "text/plain": [
       "array([[1, 1, 1],\n",
       "       [1, 1, 1],\n",
       "       [1, 1, 1],\n",
       "       [1, 1, 1]])"
      ]
     },
     "execution_count": 81,
     "metadata": {},
     "output_type": "execute_result"
    }
   ],
   "source": [
    "np.ones((4,3), dtype = int)"
   ]
  },
  {
   "cell_type": "markdown",
   "id": "75ee398a",
   "metadata": {},
   "source": [
    "## Random Distribution\n",
    "- Random values in a given shape"
   ]
  },
  {
   "cell_type": "code",
   "execution_count": 83,
   "id": "f4be6639",
   "metadata": {},
   "outputs": [
    {
     "data": {
      "text/plain": [
       "array([[0.05002708, 0.19818657, 0.28245499],\n",
       "       [0.57735014, 0.40281791, 0.32103584],\n",
       "       [0.76312767, 0.0559974 , 0.77296833],\n",
       "       [0.16567866, 0.50444038, 0.70688243],\n",
       "       [0.48938676, 0.68639722, 0.18225944]])"
      ]
     },
     "execution_count": 83,
     "metadata": {},
     "output_type": "execute_result"
    }
   ],
   "source": [
    "np.random.rand(5,3) # values are 0 - 1"
   ]
  },
  {
   "cell_type": "code",
   "execution_count": 84,
   "id": "d6dd0a3c",
   "metadata": {},
   "outputs": [
    {
     "data": {
      "text/plain": [
       "array([[ 1.54357345, -2.65915581,  0.65079573],\n",
       "       [-0.66143663, -0.95709739, -0.25932439],\n",
       "       [-2.03341024, -0.48070421, -0.17739725],\n",
       "       [-0.56459993,  0.67195649, -0.55513387],\n",
       "       [-0.26459779, -1.00403758,  1.092991  ]])"
      ]
     },
     "execution_count": 84,
     "metadata": {},
     "output_type": "execute_result"
    }
   ],
   "source": [
    "arr5 = np.random.randn(5,3) # values from the \"standard normal\" distribution"
   ]
  },
  {
   "cell_type": "code",
   "execution_count": 94,
   "id": "33b88a3b",
   "metadata": {},
   "outputs": [
    {
     "data": {
      "text/plain": [
       "array([40, 47, 41, 67, 79, 13, 45,  9])"
      ]
     },
     "execution_count": 94,
     "metadata": {},
     "output_type": "execute_result"
    }
   ],
   "source": [
    "np.random.randint(0,100,8)"
   ]
  },
  {
   "cell_type": "code",
   "execution_count": 95,
   "id": "f61dde11",
   "metadata": {},
   "outputs": [
    {
     "data": {
      "text/plain": [
       "array([[ 7, 43],\n",
       "       [33, 17],\n",
       "       [58,  7],\n",
       "       [34, 48]])"
      ]
     },
     "execution_count": 95,
     "metadata": {},
     "output_type": "execute_result"
    }
   ],
   "source": [
    "np.random.randint(0,100,8).reshape(4,2)"
   ]
  },
  {
   "cell_type": "code",
   "execution_count": 105,
   "id": "f3deb291",
   "metadata": {},
   "outputs": [
    {
     "data": {
      "text/plain": [
       "array([0.98524007, 0.91927993, 0.72379201, 0.50510905, 0.81971974])"
      ]
     },
     "execution_count": 105,
     "metadata": {},
     "output_type": "execute_result"
    }
   ],
   "source": [
    "np.random.random_sample(5)"
   ]
  },
  {
   "cell_type": "code",
   "execution_count": 107,
   "id": "b67e513b",
   "metadata": {},
   "outputs": [
    {
     "name": "stdout",
     "output_type": "stream",
     "text": [
      "[1 2 3 4 5 6 7 8]\n"
     ]
    }
   ],
   "source": [
    "arr = np.array([1, 2, 3, 4, 5, 6, 7, 8])\n",
    "\n",
    "print(arr.reshape(2, 4).base)"
   ]
  },
  {
   "cell_type": "code",
   "execution_count": 108,
   "id": "d837f38c",
   "metadata": {},
   "outputs": [
    {
     "data": {
      "text/plain": [
       "array([1, 2, 3, 4, 5, 6, 7, 8])"
      ]
     },
     "execution_count": 108,
     "metadata": {},
     "output_type": "execute_result"
    }
   ],
   "source": [
    "arr.reshape(2, 4).base"
   ]
  },
  {
   "cell_type": "markdown",
   "id": "fa768603-3432-49f3-ad06-0ada071ac4ac",
   "metadata": {},
   "source": [
    "# Data Science is a branch of computer science where we study how to store, use and analyze data for deriving information from it."
   ]
  }
 ],
 "metadata": {
  "kernelspec": {
   "display_name": "Python 3",
   "language": "python",
   "name": "python3"
  },
  "language_info": {
   "codemirror_mode": {
    "name": "ipython",
    "version": 3
   },
   "file_extension": ".py",
   "mimetype": "text/x-python",
   "name": "python",
   "nbconvert_exporter": "python",
   "pygments_lexer": "ipython3",
   "version": "3.8.8"
  }
 },
 "nbformat": 4,
 "nbformat_minor": 5
}
