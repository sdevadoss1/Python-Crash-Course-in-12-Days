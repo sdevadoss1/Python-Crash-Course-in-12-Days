{
 "cells": [
  {
   "cell_type": "markdown",
   "id": "ed9cf134-b6c8-43d1-8b03-e9fd221f1bab",
   "metadata": {},
   "source": [
    "# Datatypes in Python\n",
    "- Variables\n",
    "- Varible Assignment\n",
    "- Print Formatting\n",
    "\n",
    "## Numbers\n",
    "- using operators \n",
    "- BODMAS or PEMDAS"
   ]
  },
  {
   "cell_type": "code",
   "execution_count": 1,
   "id": "ba9224fa-9da1-4f2b-a1c6-ae8c494d6935",
   "metadata": {},
   "outputs": [
    {
     "data": {
      "text/plain": [
       "8.0"
      ]
     },
     "execution_count": 1,
     "metadata": {},
     "output_type": "execute_result"
    }
   ],
   "source": [
    "((((1+1)**4)-6)*4/5)"
   ]
  },
  {
   "cell_type": "code",
   "execution_count": 5,
   "id": "fa044082-8112-4e02-b08a-9309452945f2",
   "metadata": {},
   "outputs": [
    {
     "data": {
      "text/plain": [
       "0"
      ]
     },
     "execution_count": 5,
     "metadata": {},
     "output_type": "execute_result"
    }
   ],
   "source": [
    "10%2"
   ]
  },
  {
   "cell_type": "code",
   "execution_count": 11,
   "id": "5137e33b-497f-451e-9094-c6945b99706c",
   "metadata": {},
   "outputs": [
    {
     "data": {
      "text/plain": [
       "' Hello World!  Hello World!  Hello World!  Hello World!  Hello World! '"
      ]
     },
     "execution_count": 11,
     "metadata": {},
     "output_type": "execute_result"
    }
   ],
   "source": [
    "5*' Hello World! '"
   ]
  },
  {
   "cell_type": "markdown",
   "id": "959d5e13-bc4a-4ba0-a736-6569c96e49ec",
   "metadata": {},
   "source": [
    "## Check Datatypes - type() funtion"
   ]
  },
  {
   "cell_type": "code",
   "execution_count": 8,
   "id": "cbfb2371-2779-482b-bd8f-c7676be43427",
   "metadata": {},
   "outputs": [
    {
     "data": {
      "text/plain": [
       "str"
      ]
     },
     "execution_count": 8,
     "metadata": {},
     "output_type": "execute_result"
    }
   ],
   "source": [
    "type('Hello World!')"
   ]
  },
  {
   "cell_type": "code",
   "execution_count": 9,
   "id": "16952d7f-dee8-4e50-bcbc-93d7f5679672",
   "metadata": {},
   "outputs": [
    {
     "data": {
      "text/plain": [
       "str"
      ]
     },
     "execution_count": 9,
     "metadata": {},
     "output_type": "execute_result"
    }
   ],
   "source": [
    "type('3.141')"
   ]
  },
  {
   "cell_type": "code",
   "execution_count": 10,
   "id": "0f3fb433-5279-436e-badb-2390e7e8209e",
   "metadata": {},
   "outputs": [
    {
     "data": {
      "text/plain": [
       "float"
      ]
     },
     "execution_count": 10,
     "metadata": {},
     "output_type": "execute_result"
    }
   ],
   "source": [
    "type(3.141)"
   ]
  },
  {
   "cell_type": "markdown",
   "id": "6bdeafc8-75be-41c8-b510-2e2d623d00e6",
   "metadata": {},
   "source": [
    "- LIST"
   ]
  },
  {
   "cell_type": "code",
   "execution_count": 43,
   "id": "3e1ad7f2-0d7b-43bd-bbcd-f288a3be164b",
   "metadata": {},
   "outputs": [
    {
     "data": {
      "text/plain": [
       "list"
      ]
     },
     "execution_count": 43,
     "metadata": {},
     "output_type": "execute_result"
    }
   ],
   "source": [
    "type([ 1,2,3, 'Hi'])"
   ]
  },
  {
   "cell_type": "markdown",
   "id": "f0ccbd0b-462d-4f01-8f9e-e70b0369340d",
   "metadata": {},
   "source": [
    "## Strings\n",
    "\n"
   ]
  },
  {
   "cell_type": "code",
   "execution_count": 4,
   "id": "3f530a8e-6bcc-49af-844d-08a859195641",
   "metadata": {},
   "outputs": [
    {
     "data": {
      "text/plain": [
       "'Hello World!'"
      ]
     },
     "execution_count": 4,
     "metadata": {},
     "output_type": "execute_result"
    }
   ],
   "source": [
    "'Hello World!'"
   ]
  },
  {
   "cell_type": "markdown",
   "id": "be397b72-4746-4f16-b03e-8b5deadb4857",
   "metadata": {},
   "source": [
    "# Float"
   ]
  },
  {
   "cell_type": "code",
   "execution_count": 12,
   "id": "3dba0209-1960-4a7d-abb2-1cfcfde35367",
   "metadata": {},
   "outputs": [
    {
     "data": {
      "text/plain": [
       "9.865881"
      ]
     },
     "execution_count": 12,
     "metadata": {},
     "output_type": "execute_result"
    }
   ],
   "source": [
    "3.141 ** 2"
   ]
  },
  {
   "cell_type": "code",
   "execution_count": 15,
   "id": "53c29c96-8515-447f-b64e-124d1f661a89",
   "metadata": {},
   "outputs": [
    {
     "data": {
      "text/plain": [
       "0.5"
      ]
     },
     "execution_count": 15,
     "metadata": {},
     "output_type": "execute_result"
    }
   ],
   "source": [
    "(16 * 3) % 2.5"
   ]
  },
  {
   "cell_type": "markdown",
   "id": "61d1a181-d9e6-43d3-bba5-cac7a6eaed1a",
   "metadata": {},
   "source": [
    "# Variable Assignment\n",
    "- Syntax\n",
    "- var_name = value"
   ]
  },
  {
   "cell_type": "code",
   "execution_count": 18,
   "id": "3681af1f-d48f-4927-bd3b-0cad0600620e",
   "metadata": {},
   "outputs": [],
   "source": [
    "a = 10"
   ]
  },
  {
   "cell_type": "code",
   "execution_count": 22,
   "id": "0f2b21d5-7caa-4d4d-b977-ee6c2af14011",
   "metadata": {},
   "outputs": [
    {
     "data": {
      "text/plain": [
       "int"
      ]
     },
     "execution_count": 22,
     "metadata": {},
     "output_type": "execute_result"
    }
   ],
   "source": [
    "type(a)"
   ]
  },
  {
   "cell_type": "code",
   "execution_count": 23,
   "id": "3951945a-2e70-40c4-89a8-dd1e56b23316",
   "metadata": {},
   "outputs": [],
   "source": [
    "a = 'Hello World!'"
   ]
  },
  {
   "cell_type": "code",
   "execution_count": 24,
   "id": "1a3301f6-c8e8-47f6-91aa-8da74bdefc70",
   "metadata": {},
   "outputs": [
    {
     "data": {
      "text/plain": [
       "str"
      ]
     },
     "execution_count": 24,
     "metadata": {},
     "output_type": "execute_result"
    }
   ],
   "source": [
    "type(a)"
   ]
  },
  {
   "cell_type": "markdown",
   "id": "f5060c68-a8de-4acd-9abd-736376fb349b",
   "metadata": {},
   "source": [
    "## Mathamatical operation in the print() function"
   ]
  },
  {
   "cell_type": "code",
   "execution_count": 31,
   "id": "0c464302-1497-4879-bdff-58e2bae74484",
   "metadata": {},
   "outputs": [
    {
     "name": "stdout",
     "output_type": "stream",
     "text": [
      "8.0\n",
      "Hello!\n",
      "Hello World!\n",
      "Hello World!\n",
      "\n"
     ]
    }
   ],
   "source": [
    "print(((((1+1)**4)-6)*4/5))\n",
    "print('Hello!')\n",
    "print(2 *'Hello World!\\n')"
   ]
  },
  {
   "cell_type": "markdown",
   "id": "42910d25-f45b-4dbc-97f2-4797641621cb",
   "metadata": {},
   "source": [
    "## format() function"
   ]
  },
  {
   "cell_type": "code",
   "execution_count": null,
   "id": "43b61114-f2cc-448b-ad90-fa5e1b2b9ecc",
   "metadata": {},
   "outputs": [],
   "source": [
    "first_name = 'Samuel'\n",
    "last_name = 'Love'"
   ]
  },
  {
   "cell_type": "code",
   "execution_count": 39,
   "id": "f3470be0-772b-4d4b-b9d8-b16b3311ce8c",
   "metadata": {},
   "outputs": [
    {
     "name": "stdout",
     "output_type": "stream",
     "text": [
      "My friend's first name is Samuel and the last name is Love\n"
     ]
    }
   ],
   "source": [
    "print(\"My friend's first name is {} and the last name is {}\".format(first_name,last_name))"
   ]
  },
  {
   "cell_type": "code",
   "execution_count": 40,
   "id": "2ff9fdfb-ffac-40a7-9f26-977566f3f6d0",
   "metadata": {},
   "outputs": [
    {
     "name": "stdout",
     "output_type": "stream",
     "text": [
      "My friend's first name is Samuel and the last name is Love\n"
     ]
    }
   ],
   "source": [
    "print(\"My friend's first name is {first} and the last name is {last}\".format(last = last_name,first = first_name))"
   ]
  },
  {
   "cell_type": "markdown",
   "id": "14bd0724-24eb-4397-bb45-27553278d17f",
   "metadata": {},
   "source": [
    "## len() function"
   ]
  },
  {
   "cell_type": "code",
   "execution_count": 41,
   "id": "b3746f54-1835-48ed-957b-21133819d92e",
   "metadata": {},
   "outputs": [
    {
     "data": {
      "text/plain": [
       "12"
      ]
     },
     "execution_count": 41,
     "metadata": {},
     "output_type": "execute_result"
    }
   ],
   "source": [
    "len(\"Hello world!\")"
   ]
  },
  {
   "cell_type": "code",
   "execution_count": null,
   "id": "50e98dee-47eb-402a-9260-5ad9959785f0",
   "metadata": {},
   "outputs": [],
   "source": [
    "a = 'Hello World!'"
   ]
  },
  {
   "cell_type": "code",
   "execution_count": 42,
   "id": "8e5fceb8-27f5-4bec-8c15-31785a466ba2",
   "metadata": {},
   "outputs": [
    {
     "data": {
      "text/plain": [
       "11"
      ]
     },
     "execution_count": 42,
     "metadata": {},
     "output_type": "execute_result"
    }
   ],
   "source": [
    "len(a)-1"
   ]
  }
 ],
 "metadata": {
  "kernelspec": {
   "display_name": "Python 3",
   "language": "python",
   "name": "python3"
  },
  "language_info": {
   "codemirror_mode": {
    "name": "ipython",
    "version": 3
   },
   "file_extension": ".py",
   "mimetype": "text/x-python",
   "name": "python",
   "nbconvert_exporter": "python",
   "pygments_lexer": "ipython3",
   "version": "3.8.8"
  }
 },
 "nbformat": 4,
 "nbformat_minor": 5
}
